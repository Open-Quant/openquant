{
 "metadata": {
  "language_info": {
   "codemirror_mode": {
    "name": "ipython",
    "version": 3
   },
   "file_extension": ".py",
   "mimetype": "text/x-python",
   "name": "python",
   "nbconvert_exporter": "python",
   "pygments_lexer": "ipython3",
   "version": "3.7.4-final"
  },
  "orig_nbformat": 2,
  "kernelspec": {
   "name": "Python 3.7.4 64-bit",
   "display_name": "Python 3.7.4 64-bit",
   "metadata": {
    "interpreter": {
     "hash": "aee8b7b246df8f9039afb4144a1f6fd8d2ca17a180786b69acc140d282b71a49"
    }
   }
  }
 },
 "nbformat": 4,
 "nbformat_minor": 2,
 "cells": [
  {
   "source": [
    "## This notebook tests the impact boosting vs bootstrapping for sampling"
   ],
   "cell_type": "markdown",
   "metadata": {}
  },
  {
   "source": [
    "### Import Data"
   ],
   "cell_type": "markdown",
   "metadata": {}
  },
  {
   "cell_type": "code",
   "execution_count": 18,
   "metadata": {},
   "outputs": [],
   "source": [
    "import pandas as pd \n",
    "import numpy as np \n",
    "#import mlfinlab as ml \n",
    "\n",
    "\n",
    "\n",
    "%matplotlib inline"
   ]
  },
  {
   "cell_type": "code",
   "execution_count": 19,
   "metadata": {},
   "outputs": [
    {
     "output_type": "execute_result",
     "data": {
      "text/plain": "                 date_time     open     high      low    close  cum_vol  \\\n0  2011-07-31 23:31:58.810  1306.00  1308.75  1301.75  1305.75    53658   \n1  2011-08-01 02:55:17.443  1305.75  1309.50  1304.00  1306.50    53552   \n2  2011-08-01 07:25:56.319  1306.75  1309.75  1304.75  1305.00    53543   \n3  2011-08-01 08:33:10.903  1305.00  1305.00  1299.00  1300.00    53830   \n4  2011-08-01 10:51:41.842  1300.00  1307.75  1299.00  1307.75    53734   \n\n    cum_dollar  cum_ticks  \n0  70035704.75      14115  \n1  70006277.00      15422  \n2  70000901.00      14727  \n3  70094217.75      14987  \n4  70033006.25      14499  ",
      "text/html": "<div>\n<style scoped>\n    .dataframe tbody tr th:only-of-type {\n        vertical-align: middle;\n    }\n\n    .dataframe tbody tr th {\n        vertical-align: top;\n    }\n\n    .dataframe thead th {\n        text-align: right;\n    }\n</style>\n<table border=\"1\" class=\"dataframe\">\n  <thead>\n    <tr style=\"text-align: right;\">\n      <th></th>\n      <th>date_time</th>\n      <th>open</th>\n      <th>high</th>\n      <th>low</th>\n      <th>close</th>\n      <th>cum_vol</th>\n      <th>cum_dollar</th>\n      <th>cum_ticks</th>\n    </tr>\n  </thead>\n  <tbody>\n    <tr>\n      <th>0</th>\n      <td>2011-07-31 23:31:58.810</td>\n      <td>1306.00</td>\n      <td>1308.75</td>\n      <td>1301.75</td>\n      <td>1305.75</td>\n      <td>53658</td>\n      <td>70035704.75</td>\n      <td>14115</td>\n    </tr>\n    <tr>\n      <th>1</th>\n      <td>2011-08-01 02:55:17.443</td>\n      <td>1305.75</td>\n      <td>1309.50</td>\n      <td>1304.00</td>\n      <td>1306.50</td>\n      <td>53552</td>\n      <td>70006277.00</td>\n      <td>15422</td>\n    </tr>\n    <tr>\n      <th>2</th>\n      <td>2011-08-01 07:25:56.319</td>\n      <td>1306.75</td>\n      <td>1309.75</td>\n      <td>1304.75</td>\n      <td>1305.00</td>\n      <td>53543</td>\n      <td>70000901.00</td>\n      <td>14727</td>\n    </tr>\n    <tr>\n      <th>3</th>\n      <td>2011-08-01 08:33:10.903</td>\n      <td>1305.00</td>\n      <td>1305.00</td>\n      <td>1299.00</td>\n      <td>1300.00</td>\n      <td>53830</td>\n      <td>70094217.75</td>\n      <td>14987</td>\n    </tr>\n    <tr>\n      <th>4</th>\n      <td>2011-08-01 10:51:41.842</td>\n      <td>1300.00</td>\n      <td>1307.75</td>\n      <td>1299.00</td>\n      <td>1307.75</td>\n      <td>53734</td>\n      <td>70033006.25</td>\n      <td>14499</td>\n    </tr>\n  </tbody>\n</table>\n</div>"
     },
     "metadata": {},
     "execution_count": 19
    }
   ],
   "source": [
    "df = pd.read_csv('data/tick_data.csv')\n",
    "df.head()"
   ]
  },
  {
   "cell_type": "markdown",
   "metadata": {},
   "source": [
    "### Create financial data structures to better represent the flow of information"
   ]
  },
  {
   "cell_type": "code",
   "execution_count": 20,
   "metadata": {},
   "outputs": [],
   "source": [
    "#dollar_bars = ml.create_dollar_bar(df)"
   ]
  },
  {
   "cell_type": "code",
   "execution_count": null,
   "metadata": {},
   "outputs": [],
   "source": []
  },
  {
   "cell_type": "code",
   "execution_count": null,
   "metadata": {},
   "outputs": [],
   "source": []
  },
  {
   "source": [
    "#### Analyzing data"
   ],
   "cell_type": "markdown",
   "metadata": {}
  },
  {
   "source": [
    " "
   ],
   "cell_type": "markdown",
   "metadata": {}
  },
  {
   "cell_type": "code",
   "execution_count": null,
   "metadata": {},
   "outputs": [],
   "source": [
    "X, y = make_classification(n_samples=2000, n_features=30,\n",
    "                            n_informative=15, n_redundant=10,\n",
    "                            random_state=42, shuffle=True)\n",
    "\n",
    "# Split data\n",
    "X_train, X_test, y_train, y_test = train_test_split(X, y, test_size=0.3, random_state=42, shuffle=True, stratify=None)"
   ]
  },
  {
   "cell_type": "code",
   "execution_count": null,
   "metadata": {},
   "outputs": [],
   "source": [
    "# Create model\n",
    "bag_clf = BaggingClassifier(DecisionTreeClassifier(splitter=\"best\", max_leaf_nodes=None),\n",
    "                            n_estimators=500, max_samples=100, bootstrap=True, n_jobs=-1, oob_score=True)\n",
    "\n",
    "# Fit and score\n",
    "bag_clf.fit(X_train, y_train)\n",
    "y_pred = bag_clf.predict(X_test)\n",
    "y_pred = bag_clf.predict(X_test)\n",
    "\n",
    "print('Out-of-bag score on training: {}'.format(bag_clf.oob_score_))\n",
    "print('Test Score: {}'.format(accuracy_score(y_test, y_pred)))"
   ]
  },
  {
   "cell_type": "code",
   "execution_count": null,
   "metadata": {},
   "outputs": [],
   "source": []
  }
 ]
}